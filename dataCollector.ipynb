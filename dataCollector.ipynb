{
 "cells": [
  {
   "cell_type": "code",
   "execution_count": null,
   "metadata": {},
   "outputs": [],
   "source": [
    "import tweepy\n",
    "import pandas as pd\n",
    "import time\n",
    "import sys\n",
    "import matplotlib.pyplot as plt\n",
    "import preprocessing as prep\n",
    "import nltk"
   ]
  },
  {
   "cell_type": "code",
   "execution_count": null,
   "metadata": {},
   "outputs": [],
   "source": [
    "def login(key, secret, rate_limit_control):\n",
    "    auth = tweepy.AppAuthHandler(key, secret)\n",
    "    api = tweepy.API(auth, wait_on_rate_limit=rate_limit_control, wait_on_rate_limit_notify=rate_limit_control)\n",
    "    if not api:\n",
    "        return \"Can't Authenticate\"\n",
    "    else:\n",
    "        return api"
   ]
  },
  {
   "cell_type": "code",
   "execution_count": null,
   "metadata": {},
   "outputs": [],
   "source": [
    "def limit_handler(m):\n",
    "    print(\"Rate limit reached. Sleeping for {0} minutes. Oh Jeez!\".format(m))\n",
    "    for i in range(m):\n",
    "        time.sleep(60)\n",
    "        print(\"It's been {0} minutes since darkness started.\".format(i + 1))"
   ]
  },
  {
   "cell_type": "code",
   "execution_count": null,
   "metadata": {},
   "outputs": [],
   "source": [
    "def collect_tweets(user, page, api):\n",
    "    print(\"Collecting Tweets for User: {0} -----------------------------------------------------\".format(user))\n",
    "    tweets = []\n",
    "    for x in tweepy.Cursor(api.user_timeline, id='TheTweetOfGod', count=200, tweet_mode=\"extended\", include_rts=\"false\", exclude_replies=\"true\").pages(page):\n",
    "        tweets += x\n",
    "    text = [[tweet._json[\"full_text\"].replace(\"\\n\",\"\").replace(\"\\t\",\"\"), tweet.favorite_count, tweet.retweet_count] for tweet in tweets]\n",
    "    user_df = pd.DataFrame(data=text)\n",
    "    user_df.columns = [\"text\", \"fav\", \"ret\"]\n",
    "    user_df['score'] = user_df['fav'] + user_df['ret']\n",
    "    user_df = user_df.drop(['ret', 'fav'], axis=1)\n",
    "    user_df.to_csv(user + \"_tweets.csv\")\n",
    "    print(\"DONE! {0} tweets collected from {1}\".format(len(user_df), user))\n",
    "    return user_df"
   ]
  },
  {
   "cell_type": "code",
   "execution_count": null,
   "metadata": {},
   "outputs": [],
   "source": [
    "def collect_followers(user, page, api):\n",
    "    folls = []\n",
    "    for x in tweepy.Cursor(api.followers, count=200, id='TheTweetOfGod').pages(page):\n",
    "        folls +=x\n",
    "    text = [fol.screen_name for fol in folls]\n",
    "    foll_df = pd.DataFrame(data=text)\n",
    "    foll_df.columns = [\"name\"]\n",
    "    foll_df.to_csv(user + \"_followers.csv\")\n",
    "    return foll_df"
   ]
  },
  {
   "cell_type": "code",
   "execution_count": null,
   "metadata": {},
   "outputs": [],
   "source": [
    "def collect_favs(user, api):\n",
    "    try:\n",
    "        users_df = pd.read_csv(user + \"_followers.csv\")\n",
    "    except:\n",
    "        print(user + \"_followers.csv can not be found!\")\n",
    "        sys.exit(1)\n",
    "    # collect favorited tweets of followers of the user\n",
    "    print(\"Total number of users: {0}\".format(len(users_df)))\n",
    "    x = 0\n",
    "    started = False\n",
    "    while started == False:\n",
    "        try:\n",
    "            favs = api.favorites(users_df.at[x, 'name'], count=200, tweet_mode=\"extended\")\n",
    "            started = True\n",
    "        except tweepy.RateLimitError as e:\n",
    "            limit_handler(15)\n",
    "            continue\n",
    "        except tweepy.TweepError as e:\n",
    "            if str(e) == \"Not authorized.\":\n",
    "                print(\"XXXXX NOT AUTHORIZED XXXXX\")\n",
    "                x = x + 1\n",
    "    for i in range(x+1,users_df.shape[0]):\n",
    "        try:\n",
    "            favs = favs + api.favorites(users_df.at[i, 'name'], count=200, tweet_mode=\"extended\")\n",
    "            print(\"Collecting user {0}\".format(i))\n",
    "        except tweepy.RateLimitError as e:\n",
    "            limit_handler(15)\n",
    "            continue\n",
    "        except tweepy.TweepError as e:\n",
    "            if str(e) == \"Not authorized.\":\n",
    "                print(\"XXXXX NOT AUTHORIZED XXXXX\")\n",
    "            else:\n",
    "                print(str(e))\n",
    "        except e:\n",
    "            print(e)\n",
    "            #sys.exit(1)\n",
    "    print(\"DONE! {0} favorited tweets in the pocket\".format(len(favs)))\n",
    "    text = [[fav.full_text.replace(\"\\n\",\"\").replace(\"\\t\",\"\")] for fav in favs if fav.lang==\"en\"]\n",
    "    fav_df = pd.DataFrame(data=text)\n",
    "    fav_df.columns = [\"text\"]\n",
    "    print(\"We are left with {0} tweets after language filter.\".format(len(fav_df)))\n",
    "    fav_df.to_csv(user + \"_folls_favs_extented3.csv\")\n",
    "    return fav_df"
   ]
  },
  {
   "cell_type": "code",
   "execution_count": null,
   "metadata": {},
   "outputs": [],
   "source": [
    "def df_tokenize(df):\n",
    "  df = prep.remove_url(df)\n",
    "  df = prep.remove_mentions(df)\n",
    "  df = prep.remove_num(df)\n",
    "  df = prep.remove_punc(df)\n",
    "  df = prep.remove_repeat(df)\n",
    "  df = prep.get_low(df)\n",
    "  df = df.apply(nltk.word_tokenize)\n",
    "  return df"
   ]
  },
  {
   "cell_type": "code",
   "execution_count": null,
   "metadata": {},
   "outputs": [],
   "source": [
    "def clense(df):\n",
    "  df = prep.remove_url(df)\n",
    "  df = prep.remove_mentions(df)\n",
    "  df = prep.remove_num(df)\n",
    "  df = prep.remove_punc(df)\n",
    "  df = prep.remove_repeat(df)\n",
    "  df = prep.get_low(df)\n",
    "  return df"
   ]
  },
  {
   "cell_type": "code",
   "execution_count": null,
   "metadata": {},
   "outputs": [],
   "source": [
    "api = login(\"PIIQvbe9BuOPO1zz4IC695TGh\", \"IbRMtJjmplbRHV7z5ILSB0DVNSgryHn5uufjYRP8jYCMRYTcyC\", False)"
   ]
  },
  {
   "cell_type": "code",
   "execution_count": null,
   "metadata": {},
   "outputs": [],
   "source": [
    "folowers_df = collect_followers(\"TheTweetOfGod\",10, api)\n",
    "folowers_df"
   ]
  },
  {
   "cell_type": "code",
   "execution_count": null,
   "metadata": {},
   "outputs": [],
   "source": [
    "favs_df = collect_favs(\"TheTweetOfGod\", api)\n",
    "favs_df"
   ]
  },
  {
   "cell_type": "code",
   "execution_count": null,
   "metadata": {},
   "outputs": [],
   "source": [
    "user_df = collect_tweets(\"TheTweetOfGod\", 15, api)\n",
    "user_df"
   ]
  }
 ],
 "metadata": {
  "kernelspec": {
   "display_name": "Python 3",
   "language": "python",
   "name": "python3"
  },
  "language_info": {
   "codemirror_mode": {
    "name": "ipython",
    "version": 3
   },
   "file_extension": ".py",
   "mimetype": "text/x-python",
   "name": "python",
   "nbconvert_exporter": "python",
   "pygments_lexer": "ipython3",
   "version": "3.6.4"
  }
 },
 "nbformat": 4,
 "nbformat_minor": 2
}
